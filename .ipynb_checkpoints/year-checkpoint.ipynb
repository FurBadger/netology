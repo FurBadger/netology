{
 "cells": [
  {
   "cell_type": "code",
   "execution_count": 4,
   "id": "d51a5d4b-9968-4ba6-882e-cebbbd1cc8b5",
   "metadata": {
    "tags": []
   },
   "outputs": [
    {
     "name": "stdin",
     "output_type": "stream",
     "text": [
      "Введите четырёхзначный год:  2024\n"
     ]
    },
    {
     "name": "stdout",
     "output_type": "stream",
     "text": [
      "Результат:\n",
      "високосный год.\n"
     ]
    }
   ],
   "source": [
    "# Запрашиваем ввод года у пользователя\n",
    "year = int(input(\"Введите четырёхзначный год: \"))\n",
    "\n",
    "# Проверяем, является ли год високосным\n",
    "if (year % 4 == 0 and year % 100 != 0) or (year % 400 == 0):\n",
    "    print(f\"Результат:\\nвисокосный год.\")\n",
    "else:\n",
    "    print(f\"Результат:\\nобычный год.\")"
   ]
  }
 ],
 "metadata": {
  "kernelspec": {
   "display_name": "Python 3",
   "language": "python",
   "name": "python3"
  },
  "language_info": {
   "codemirror_mode": {
    "name": "ipython",
    "version": 3
   },
   "file_extension": ".py",
   "mimetype": "text/x-python",
   "name": "python",
   "nbconvert_exporter": "python",
   "pygments_lexer": "ipython3",
   "version": "3.7.2"
  }
 },
 "nbformat": 4,
 "nbformat_minor": 5
}
