{
 "cells": [
  {
   "cell_type": "code",
   "execution_count": 2,
   "id": "4f34f640-6973-4328-aa47-27f28cde2fff",
   "metadata": {
    "tags": []
   },
   "outputs": [
    {
     "name": "stdin",
     "output_type": "stream",
     "text": [
      "Введите шестизначный номер билета:  123456\n"
     ]
    },
    {
     "name": "stdout",
     "output_type": "stream",
     "text": [
      "Результат:\n",
      "Несчастливый билет\n"
     ]
    }
   ],
   "source": [
    "# Запрашиваем ввод года у пользователя\n",
    "number = input(\"Введите шестизначный номер билета: \")\n",
    "\n",
    "# Функция для проверки счастливого билета\n",
    "def is_happy_ticket(number):\n",
    "    # Преобразуем номер в строку для обработки\n",
    "    number_str = str(number)\n",
    "\n",
    "    # Проверяем, что номер состоит из 6 цифр\n",
    "    if len(number_str) != 6:\n",
    "        return \"Номер билета должен содержать 6 цифр\"\n",
    "\n",
    "    # Получаем суммы первых и последних трех цифр\n",
    "    first_half_sum = int(number_str[0]) + int(number_str[1]) + int(number_str[2])\n",
    "    second_half_sum = int(number_str[3]) + int(number_str[4]) + int(number_str[5])\n",
    "\n",
    "    # Сравниваем суммы и возвращаем результат\n",
    "    if first_half_sum == second_half_sum:\n",
    "        return \"Результат:\\nСчастливый билет\"\n",
    "    else:\n",
    "        return \"Результат:\\nНесчастливый билет\"\n",
    "\n",
    "# Получаем результат и выводим его\n",
    "result = is_happy_ticket(number)\n",
    "print(result)"
   ]
  },
  {
   "cell_type": "code",
   "execution_count": null,
   "id": "b89b2605-225f-419c-b328-62f4d02b411d",
   "metadata": {},
   "outputs": [],
   "source": []
  }
 ],
 "metadata": {
  "kernelspec": {
   "display_name": "Python 3",
   "language": "python",
   "name": "python3"
  },
  "language_info": {
   "codemirror_mode": {
    "name": "ipython",
    "version": 3
   },
   "file_extension": ".py",
   "mimetype": "text/x-python",
   "name": "python",
   "nbconvert_exporter": "python",
   "pygments_lexer": "ipython3",
   "version": "3.7.2"
  }
 },
 "nbformat": 4,
 "nbformat_minor": 5
}
